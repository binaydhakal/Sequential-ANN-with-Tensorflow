{
 "cells": [
  {
   "cell_type": "code",
   "execution_count": 32,
   "id": "f6e54308-a7a0-40c7-8073-dd879b3f35b9",
   "metadata": {
    "tags": []
   },
   "outputs": [],
   "source": [
    "import numpy as np;"
   ]
  },
  {
   "cell_type": "code",
   "execution_count": 33,
   "id": "15aa3e11-0e36-4d4e-8103-99ff7d4c6869",
   "metadata": {
    "tags": []
   },
   "outputs": [],
   "source": [
    "from random import randint\n",
    "from sklearn.utils import shuffle\n",
    "from sklearn.preprocessing import MinMaxScaler"
   ]
  },
  {
   "cell_type": "code",
   "execution_count": 34,
   "id": "ec83cc96-8f7f-4870-9b17-664ca6ec33de",
   "metadata": {
    "tags": []
   },
   "outputs": [],
   "source": [
    "train_labels = []"
   ]
  },
  {
   "cell_type": "code",
   "execution_count": 35,
   "id": "80a1953d-ea00-4660-b2c3-28863ec295b6",
   "metadata": {
    "tags": []
   },
   "outputs": [],
   "source": [
    "train_samples = []"
   ]
  },
  {
   "cell_type": "markdown",
   "id": "e736baf5-e742-42af-9be8-cd7e881ecf0f",
   "metadata": {},
   "source": [
    "Preparing the Dummy Data."
   ]
  },
  {
   "cell_type": "markdown",
   "id": "fdabac31",
   "metadata": {},
   "source": []
  },
  {
   "cell_type": "code",
   "execution_count": 36,
   "id": "b214fcea-5ddf-4adc-a34d-3610d35b9ca9",
   "metadata": {
    "tags": []
   },
   "outputs": [],
   "source": [
    "for i in range(50):\n",
    "#     The 5% of the younger people who experienced the side effects.\n",
    "    random_younger = randint(13, 64)\n",
    "    train_samples.append(random_younger)\n",
    "    train_labels.append(1)\n",
    "#     The 5% of the older people who didnot experienced the side effects.\n",
    "    random_older = randint(65, 100)\n",
    "    train_samples.append(random_older)\n",
    "    train_labels.append(0)\n",
    "for i in range(1000):\n",
    "#     The 95% of the younger people who did not experienced the side effects.\n",
    "    random_younger = randint(13, 64)\n",
    "    train_samples.append(random_younger)\n",
    "    train_labels.append(0)\n",
    "#     The 95% of the older people who experienced the side effects.\n",
    "    random_older = randint(65, 100)\n",
    "    train_samples.append(random_older)\n",
    "    train_labels.append(1)"
   ]
  },
  {
   "cell_type": "code",
   "execution_count": 37,
   "id": "8aaaaa87-7e60-489d-bc6f-2f7ce8647997",
   "metadata": {
    "tags": []
   },
   "outputs": [],
   "source": [
    "train_labels = np.array(train_labels)\n",
    "train_samples = np.array(train_samples)\n",
    "train_labels, train_samples = shuffle(train_labels, train_samples)"
   ]
  },
  {
   "cell_type": "code",
   "execution_count": 38,
   "id": "6b973a22-689c-4a68-876b-0213b752a893",
   "metadata": {
    "tags": []
   },
   "outputs": [],
   "source": [
    "scaler = MinMaxScaler(feature_range=(0,1))\n",
    "scaled_train_samples = scaler.fit_transform(train_samples.reshape(-1,1))"
   ]
  },
  {
   "cell_type": "markdown",
   "id": "3af5e98d-8a7b-4485-98f4-45fb27c94e7b",
   "metadata": {},
   "source": [
    "Simple tf.keras Seqential Model"
   ]
  },
  {
   "cell_type": "code",
   "execution_count": 39,
   "id": "ebe0ecc8-3efd-476a-97e5-2d64c0f43631",
   "metadata": {
    "tags": []
   },
   "outputs": [],
   "source": [
    "import tensorflow as tf\n",
    "from tensorflow import keras\n",
    "from tensorflow.keras.models import Sequential\n",
    "from tensorflow.keras.layers import Activation, Dense\n",
    "from tensorflow.keras.optimizers import Adam\n",
    "from tensorflow.keras.metrics import categorical_crossentropy"
   ]
  },
  {
   "cell_type": "code",
   "execution_count": 41,
   "id": "6679dda5-aa91-4aa4-9f6e-96f4965a684b",
   "metadata": {
    "tags": []
   },
   "outputs": [],
   "source": [
    "model = Sequential([\n",
    "    Dense(units=16, input_shape=(1,), activation=\"relu\"),\n",
    "    Dense(units=32, activation=\"relu\"),\n",
    "    Dense(units=2, activation=\"softmax\")\n",
    "])"
   ]
  },
  {
   "cell_type": "code",
   "execution_count": 43,
   "id": "d79023a1-9893-4962-b512-cb8dea7a3c6c",
   "metadata": {
    "tags": []
   },
   "outputs": [
    {
     "name": "stdout",
     "output_type": "stream",
     "text": [
      "Model: \"sequential\"\n",
      "_________________________________________________________________\n",
      " Layer (type)                Output Shape              Param #   \n",
      "=================================================================\n",
      " dense_2 (Dense)             (None, 16)                32        \n",
      "                                                                 \n",
      " dense_3 (Dense)             (None, 32)                544       \n",
      "                                                                 \n",
      " dense_4 (Dense)             (None, 2)                 66        \n",
      "                                                                 \n",
      "=================================================================\n",
      "Total params: 642 (2.51 KB)\n",
      "Trainable params: 642 (2.51 KB)\n",
      "Non-trainable params: 0 (0.00 Byte)\n",
      "_________________________________________________________________\n"
     ]
    }
   ],
   "source": [
    "model.summary()"
   ]
  },
  {
   "cell_type": "code",
   "execution_count": 45,
   "id": "b2fbdff5-5f1f-4a84-b1ae-680e10772d78",
   "metadata": {
    "tags": []
   },
   "outputs": [],
   "source": [
    "model.compile(optimizer=Adam(learning_rate=0.001), loss='sparse_categorical_crossentropy', metrics=['accuracy'])"
   ]
  },
  {
   "cell_type": "code",
   "execution_count": 46,
   "id": "b326aa50-aaaa-413a-8b77-b990f8393511",
   "metadata": {
    "tags": []
   },
   "outputs": [
    {
     "name": "stdout",
     "output_type": "stream",
     "text": [
      "Epoch 1/30\n",
      "210/210 - 1s - loss: 0.5874 - accuracy: 0.7090 - 529ms/epoch - 3ms/step\n",
      "Epoch 2/30\n",
      "210/210 - 0s - loss: 0.3374 - accuracy: 0.9119 - 121ms/epoch - 575us/step\n",
      "Epoch 3/30\n",
      "210/210 - 0s - loss: 0.2733 - accuracy: 0.9329 - 122ms/epoch - 582us/step\n",
      "Epoch 4/30\n",
      "210/210 - 0s - loss: 0.2563 - accuracy: 0.9376 - 123ms/epoch - 584us/step\n",
      "Epoch 5/30\n",
      "210/210 - 0s - loss: 0.2490 - accuracy: 0.9362 - 127ms/epoch - 606us/step\n",
      "Epoch 6/30\n",
      "210/210 - 0s - loss: 0.2453 - accuracy: 0.9400 - 122ms/epoch - 583us/step\n",
      "Epoch 7/30\n",
      "210/210 - 0s - loss: 0.2423 - accuracy: 0.9419 - 127ms/epoch - 605us/step\n",
      "Epoch 8/30\n",
      "210/210 - 0s - loss: 0.2386 - accuracy: 0.9410 - 120ms/epoch - 571us/step\n",
      "Epoch 9/30\n",
      "210/210 - 0s - loss: 0.2369 - accuracy: 0.9438 - 131ms/epoch - 624us/step\n",
      "Epoch 10/30\n",
      "210/210 - 0s - loss: 0.2346 - accuracy: 0.9438 - 121ms/epoch - 574us/step\n",
      "Epoch 11/30\n",
      "210/210 - 0s - loss: 0.2335 - accuracy: 0.9462 - 130ms/epoch - 617us/step\n",
      "Epoch 12/30\n",
      "210/210 - 0s - loss: 0.2321 - accuracy: 0.9457 - 123ms/epoch - 587us/step\n",
      "Epoch 13/30\n",
      "210/210 - 0s - loss: 0.2297 - accuracy: 0.9467 - 130ms/epoch - 620us/step\n",
      "Epoch 14/30\n",
      "210/210 - 0s - loss: 0.2280 - accuracy: 0.9448 - 128ms/epoch - 610us/step\n",
      "Epoch 15/30\n",
      "210/210 - 0s - loss: 0.2269 - accuracy: 0.9457 - 127ms/epoch - 606us/step\n",
      "Epoch 16/30\n",
      "210/210 - 0s - loss: 0.2253 - accuracy: 0.9467 - 122ms/epoch - 581us/step\n",
      "Epoch 17/30\n",
      "210/210 - 0s - loss: 0.2232 - accuracy: 0.9457 - 125ms/epoch - 594us/step\n",
      "Epoch 18/30\n",
      "210/210 - 0s - loss: 0.2219 - accuracy: 0.9471 - 126ms/epoch - 602us/step\n",
      "Epoch 19/30\n",
      "210/210 - 0s - loss: 0.2199 - accuracy: 0.9452 - 121ms/epoch - 579us/step\n",
      "Epoch 20/30\n",
      "210/210 - 0s - loss: 0.2200 - accuracy: 0.9438 - 129ms/epoch - 616us/step\n",
      "Epoch 21/30\n",
      "210/210 - 0s - loss: 0.2178 - accuracy: 0.9471 - 123ms/epoch - 588us/step\n",
      "Epoch 22/30\n",
      "210/210 - 0s - loss: 0.2161 - accuracy: 0.9481 - 136ms/epoch - 647us/step\n",
      "Epoch 23/30\n",
      "210/210 - 0s - loss: 0.2156 - accuracy: 0.9462 - 137ms/epoch - 654us/step\n",
      "Epoch 24/30\n",
      "210/210 - 0s - loss: 0.2147 - accuracy: 0.9457 - 127ms/epoch - 606us/step\n",
      "Epoch 25/30\n",
      "210/210 - 0s - loss: 0.2131 - accuracy: 0.9462 - 173ms/epoch - 822us/step\n",
      "Epoch 26/30\n",
      "210/210 - 0s - loss: 0.2118 - accuracy: 0.9476 - 152ms/epoch - 724us/step\n",
      "Epoch 27/30\n",
      "210/210 - 0s - loss: 0.2123 - accuracy: 0.9429 - 148ms/epoch - 706us/step\n",
      "Epoch 28/30\n",
      "210/210 - 0s - loss: 0.2107 - accuracy: 0.9486 - 146ms/epoch - 696us/step\n",
      "Epoch 29/30\n",
      "210/210 - 0s - loss: 0.2082 - accuracy: 0.9462 - 136ms/epoch - 648us/step\n",
      "Epoch 30/30\n",
      "210/210 - 0s - loss: 0.2085 - accuracy: 0.9457 - 134ms/epoch - 639us/step\n"
     ]
    },
    {
     "data": {
      "text/plain": [
       "<keras.src.callbacks.History at 0x7feca8141990>"
      ]
     },
     "execution_count": 46,
     "metadata": {},
     "output_type": "execute_result"
    }
   ],
   "source": [
    "model.fit(x=scaled_train_samples, y=train_labels, batch_size=10, epochs=30, shuffle=True, verbose=2)"
   ]
  },
  {
   "cell_type": "code",
   "execution_count": 47,
   "id": "e5371fe6-1416-4fff-a733-0c82ff7c31b3",
   "metadata": {
    "tags": []
   },
   "outputs": [
    {
     "name": "stdout",
     "output_type": "stream",
     "text": [
      "Epoch 1/40\n",
      "420/420 - 0s - loss: 0.2099 - accuracy: 0.9438 - 432ms/epoch - 1ms/step\n",
      "Epoch 2/40\n",
      "420/420 - 0s - loss: 0.2084 - accuracy: 0.9462 - 244ms/epoch - 582us/step\n",
      "Epoch 3/40\n",
      "420/420 - 0s - loss: 0.2069 - accuracy: 0.9448 - 235ms/epoch - 559us/step\n",
      "Epoch 4/40\n",
      "420/420 - 0s - loss: 0.2047 - accuracy: 0.9481 - 236ms/epoch - 562us/step\n",
      "Epoch 5/40\n",
      "420/420 - 0s - loss: 0.2035 - accuracy: 0.9452 - 238ms/epoch - 568us/step\n",
      "Epoch 6/40\n",
      "420/420 - 0s - loss: 0.2038 - accuracy: 0.9467 - 232ms/epoch - 552us/step\n",
      "Epoch 7/40\n",
      "420/420 - 0s - loss: 0.2029 - accuracy: 0.9490 - 231ms/epoch - 549us/step\n",
      "Epoch 8/40\n",
      "420/420 - 0s - loss: 0.2024 - accuracy: 0.9457 - 235ms/epoch - 560us/step\n",
      "Epoch 9/40\n",
      "420/420 - 0s - loss: 0.2028 - accuracy: 0.9481 - 253ms/epoch - 601us/step\n",
      "Epoch 10/40\n",
      "420/420 - 0s - loss: 0.2009 - accuracy: 0.9490 - 234ms/epoch - 556us/step\n",
      "Epoch 11/40\n",
      "420/420 - 0s - loss: 0.2013 - accuracy: 0.9481 - 236ms/epoch - 562us/step\n",
      "Epoch 12/40\n",
      "420/420 - 0s - loss: 0.2014 - accuracy: 0.9467 - 233ms/epoch - 555us/step\n",
      "Epoch 13/40\n",
      "420/420 - 0s - loss: 0.1997 - accuracy: 0.9486 - 239ms/epoch - 569us/step\n",
      "Epoch 14/40\n",
      "420/420 - 0s - loss: 0.1996 - accuracy: 0.9495 - 235ms/epoch - 559us/step\n",
      "Epoch 15/40\n",
      "420/420 - 0s - loss: 0.1977 - accuracy: 0.9476 - 235ms/epoch - 559us/step\n",
      "Epoch 16/40\n",
      "420/420 - 0s - loss: 0.1987 - accuracy: 0.9471 - 249ms/epoch - 592us/step\n",
      "Epoch 17/40\n",
      "420/420 - 0s - loss: 0.1974 - accuracy: 0.9500 - 253ms/epoch - 602us/step\n",
      "Epoch 18/40\n",
      "420/420 - 0s - loss: 0.2007 - accuracy: 0.9462 - 251ms/epoch - 598us/step\n",
      "Epoch 19/40\n",
      "420/420 - 0s - loss: 0.1980 - accuracy: 0.9486 - 255ms/epoch - 608us/step\n",
      "Epoch 20/40\n",
      "420/420 - 0s - loss: 0.1984 - accuracy: 0.9481 - 249ms/epoch - 594us/step\n",
      "Epoch 21/40\n",
      "420/420 - 0s - loss: 0.1994 - accuracy: 0.9467 - 248ms/epoch - 590us/step\n",
      "Epoch 22/40\n",
      "420/420 - 0s - loss: 0.1976 - accuracy: 0.9486 - 245ms/epoch - 583us/step\n",
      "Epoch 23/40\n",
      "420/420 - 0s - loss: 0.1969 - accuracy: 0.9500 - 256ms/epoch - 609us/step\n",
      "Epoch 24/40\n",
      "420/420 - 0s - loss: 0.1994 - accuracy: 0.9486 - 255ms/epoch - 608us/step\n",
      "Epoch 25/40\n",
      "420/420 - 0s - loss: 0.1984 - accuracy: 0.9476 - 248ms/epoch - 591us/step\n",
      "Epoch 26/40\n",
      "420/420 - 0s - loss: 0.1969 - accuracy: 0.9476 - 244ms/epoch - 580us/step\n",
      "Epoch 27/40\n",
      "420/420 - 0s - loss: 0.1973 - accuracy: 0.9486 - 248ms/epoch - 590us/step\n",
      "Epoch 28/40\n",
      "420/420 - 0s - loss: 0.1969 - accuracy: 0.9490 - 251ms/epoch - 597us/step\n",
      "Epoch 29/40\n",
      "420/420 - 0s - loss: 0.1977 - accuracy: 0.9490 - 262ms/epoch - 624us/step\n",
      "Epoch 30/40\n",
      "420/420 - 0s - loss: 0.1976 - accuracy: 0.9486 - 242ms/epoch - 576us/step\n",
      "Epoch 31/40\n",
      "420/420 - 0s - loss: 0.1964 - accuracy: 0.9490 - 248ms/epoch - 592us/step\n",
      "Epoch 32/40\n",
      "420/420 - 0s - loss: 0.1955 - accuracy: 0.9495 - 249ms/epoch - 592us/step\n",
      "Epoch 33/40\n",
      "420/420 - 0s - loss: 0.1948 - accuracy: 0.9490 - 243ms/epoch - 578us/step\n",
      "Epoch 34/40\n",
      "420/420 - 0s - loss: 0.1958 - accuracy: 0.9505 - 240ms/epoch - 572us/step\n",
      "Epoch 35/40\n",
      "420/420 - 0s - loss: 0.1963 - accuracy: 0.9486 - 234ms/epoch - 558us/step\n",
      "Epoch 36/40\n",
      "420/420 - 0s - loss: 0.1964 - accuracy: 0.9505 - 236ms/epoch - 561us/step\n",
      "Epoch 37/40\n",
      "420/420 - 0s - loss: 0.1965 - accuracy: 0.9476 - 240ms/epoch - 572us/step\n",
      "Epoch 38/40\n",
      "420/420 - 0s - loss: 0.1962 - accuracy: 0.9505 - 259ms/epoch - 617us/step\n",
      "Epoch 39/40\n",
      "420/420 - 0s - loss: 0.1964 - accuracy: 0.9490 - 249ms/epoch - 593us/step\n",
      "Epoch 40/40\n",
      "420/420 - 0s - loss: 0.1965 - accuracy: 0.9476 - 245ms/epoch - 582us/step\n"
     ]
    },
    {
     "data": {
      "text/plain": [
       "<keras.src.callbacks.History at 0x7feca6682790>"
      ]
     },
     "execution_count": 47,
     "metadata": {},
     "output_type": "execute_result"
    }
   ],
   "source": [
    "model.fit(x=scaled_train_samples, y=train_labels, batch_size=5, epochs=40, shuffle=True, verbose=2)"
   ]
  },
  {
   "cell_type": "code",
   "execution_count": 48,
   "id": "7999d8fd-4b6a-4545-bf27-11645fffc6eb",
   "metadata": {
    "tags": []
   },
   "outputs": [
    {
     "name": "stdout",
     "output_type": "stream",
     "text": [
      "Epoch 1/50\n",
      "175/175 - 0s - loss: 0.1932 - accuracy: 0.9524 - 176ms/epoch - 1ms/step\n",
      "Epoch 2/50\n",
      "175/175 - 0s - loss: 0.1931 - accuracy: 0.9500 - 106ms/epoch - 607us/step\n",
      "Epoch 3/50\n",
      "175/175 - 0s - loss: 0.1934 - accuracy: 0.9514 - 103ms/epoch - 586us/step\n",
      "Epoch 4/50\n",
      "175/175 - 0s - loss: 0.1919 - accuracy: 0.9510 - 105ms/epoch - 602us/step\n",
      "Epoch 5/50\n",
      "175/175 - 0s - loss: 0.1933 - accuracy: 0.9505 - 104ms/epoch - 596us/step\n",
      "Epoch 6/50\n",
      "175/175 - 0s - loss: 0.1929 - accuracy: 0.9514 - 103ms/epoch - 586us/step\n",
      "Epoch 7/50\n",
      "175/175 - 0s - loss: 0.1943 - accuracy: 0.9481 - 107ms/epoch - 609us/step\n",
      "Epoch 8/50\n",
      "175/175 - 0s - loss: 0.1932 - accuracy: 0.9505 - 105ms/epoch - 599us/step\n",
      "Epoch 9/50\n",
      "175/175 - 0s - loss: 0.1936 - accuracy: 0.9471 - 108ms/epoch - 615us/step\n",
      "Epoch 10/50\n",
      "175/175 - 0s - loss: 0.1937 - accuracy: 0.9500 - 107ms/epoch - 613us/step\n",
      "Epoch 11/50\n",
      "175/175 - 0s - loss: 0.1919 - accuracy: 0.9495 - 111ms/epoch - 632us/step\n",
      "Epoch 12/50\n",
      "175/175 - 0s - loss: 0.1969 - accuracy: 0.9467 - 112ms/epoch - 637us/step\n",
      "Epoch 13/50\n",
      "175/175 - 0s - loss: 0.1939 - accuracy: 0.9505 - 112ms/epoch - 639us/step\n",
      "Epoch 14/50\n",
      "175/175 - 0s - loss: 0.1933 - accuracy: 0.9486 - 109ms/epoch - 621us/step\n",
      "Epoch 15/50\n",
      "175/175 - 0s - loss: 0.1942 - accuracy: 0.9490 - 112ms/epoch - 640us/step\n",
      "Epoch 16/50\n",
      "175/175 - 0s - loss: 0.1940 - accuracy: 0.9495 - 107ms/epoch - 612us/step\n",
      "Epoch 17/50\n",
      "175/175 - 0s - loss: 0.1925 - accuracy: 0.9505 - 107ms/epoch - 610us/step\n",
      "Epoch 18/50\n",
      "175/175 - 0s - loss: 0.1942 - accuracy: 0.9490 - 110ms/epoch - 627us/step\n",
      "Epoch 19/50\n",
      "175/175 - 0s - loss: 0.1938 - accuracy: 0.9481 - 108ms/epoch - 619us/step\n",
      "Epoch 20/50\n",
      "175/175 - 0s - loss: 0.1940 - accuracy: 0.9505 - 112ms/epoch - 637us/step\n",
      "Epoch 21/50\n",
      "175/175 - 0s - loss: 0.1935 - accuracy: 0.9524 - 174ms/epoch - 994us/step\n",
      "Epoch 22/50\n",
      "175/175 - 0s - loss: 0.1928 - accuracy: 0.9486 - 120ms/epoch - 684us/step\n",
      "Epoch 23/50\n",
      "175/175 - 0s - loss: 0.1938 - accuracy: 0.9505 - 110ms/epoch - 628us/step\n",
      "Epoch 24/50\n",
      "175/175 - 0s - loss: 0.1941 - accuracy: 0.9486 - 106ms/epoch - 605us/step\n",
      "Epoch 25/50\n",
      "175/175 - 0s - loss: 0.1931 - accuracy: 0.9500 - 103ms/epoch - 588us/step\n",
      "Epoch 26/50\n",
      "175/175 - 0s - loss: 0.1938 - accuracy: 0.9510 - 103ms/epoch - 590us/step\n",
      "Epoch 27/50\n",
      "175/175 - 0s - loss: 0.1938 - accuracy: 0.9495 - 106ms/epoch - 603us/step\n",
      "Epoch 28/50\n",
      "175/175 - 0s - loss: 0.1936 - accuracy: 0.9514 - 106ms/epoch - 608us/step\n",
      "Epoch 29/50\n",
      "175/175 - 0s - loss: 0.1923 - accuracy: 0.9519 - 110ms/epoch - 628us/step\n",
      "Epoch 30/50\n",
      "175/175 - 0s - loss: 0.1938 - accuracy: 0.9519 - 110ms/epoch - 628us/step\n",
      "Epoch 31/50\n",
      "175/175 - 0s - loss: 0.1948 - accuracy: 0.9486 - 110ms/epoch - 631us/step\n",
      "Epoch 32/50\n",
      "175/175 - 0s - loss: 0.1925 - accuracy: 0.9495 - 109ms/epoch - 621us/step\n",
      "Epoch 33/50\n",
      "175/175 - 0s - loss: 0.1935 - accuracy: 0.9500 - 111ms/epoch - 632us/step\n",
      "Epoch 34/50\n",
      "175/175 - 0s - loss: 0.1934 - accuracy: 0.9500 - 105ms/epoch - 603us/step\n",
      "Epoch 35/50\n",
      "175/175 - 1s - loss: 0.1930 - accuracy: 0.9495 - 575ms/epoch - 3ms/step\n",
      "Epoch 36/50\n",
      "175/175 - 0s - loss: 0.1937 - accuracy: 0.9495 - 103ms/epoch - 590us/step\n",
      "Epoch 37/50\n",
      "175/175 - 0s - loss: 0.1932 - accuracy: 0.9519 - 102ms/epoch - 585us/step\n",
      "Epoch 38/50\n",
      "175/175 - 0s - loss: 0.1933 - accuracy: 0.9495 - 104ms/epoch - 593us/step\n",
      "Epoch 39/50\n",
      "175/175 - 0s - loss: 0.1938 - accuracy: 0.9519 - 108ms/epoch - 617us/step\n",
      "Epoch 40/50\n",
      "175/175 - 0s - loss: 0.1939 - accuracy: 0.9524 - 113ms/epoch - 645us/step\n",
      "Epoch 41/50\n",
      "175/175 - 0s - loss: 0.1926 - accuracy: 0.9495 - 115ms/epoch - 659us/step\n",
      "Epoch 42/50\n",
      "175/175 - 0s - loss: 0.1919 - accuracy: 0.9514 - 110ms/epoch - 626us/step\n",
      "Epoch 43/50\n",
      "175/175 - 0s - loss: 0.1927 - accuracy: 0.9514 - 112ms/epoch - 641us/step\n",
      "Epoch 44/50\n",
      "175/175 - 0s - loss: 0.1924 - accuracy: 0.9505 - 109ms/epoch - 622us/step\n",
      "Epoch 45/50\n",
      "175/175 - 0s - loss: 0.1928 - accuracy: 0.9519 - 109ms/epoch - 624us/step\n",
      "Epoch 46/50\n",
      "175/175 - 0s - loss: 0.1938 - accuracy: 0.9486 - 107ms/epoch - 612us/step\n",
      "Epoch 47/50\n",
      "175/175 - 0s - loss: 0.1920 - accuracy: 0.9510 - 112ms/epoch - 639us/step\n",
      "Epoch 48/50\n",
      "175/175 - 0s - loss: 0.1934 - accuracy: 0.9500 - 106ms/epoch - 606us/step\n",
      "Epoch 49/50\n",
      "175/175 - 0s - loss: 0.1915 - accuracy: 0.9505 - 109ms/epoch - 621us/step\n",
      "Epoch 50/50\n",
      "175/175 - 0s - loss: 0.1933 - accuracy: 0.9490 - 130ms/epoch - 743us/step\n"
     ]
    },
    {
     "data": {
      "text/plain": [
       "<keras.src.callbacks.History at 0x7fec90242390>"
      ]
     },
     "execution_count": 48,
     "metadata": {},
     "output_type": "execute_result"
    }
   ],
   "source": [
    "model.fit(x=scaled_train_samples, y=train_labels, batch_size=12, epochs=50, shuffle=True, verbose=2)"
   ]
  },
  {
   "cell_type": "code",
   "execution_count": 49,
   "id": "a75c6b62-c305-40e2-a8a1-563707d91b2e",
   "metadata": {
    "tags": []
   },
   "outputs": [
    {
     "name": "stdout",
     "output_type": "stream",
     "text": [
      "Epoch 1/30\n",
      "189/189 - 0s - loss: 0.1900 - accuracy: 0.9508 - val_loss: 0.2100 - val_accuracy: 0.9333 - 222ms/epoch - 1ms/step\n",
      "Epoch 2/30\n",
      "189/189 - 0s - loss: 0.1913 - accuracy: 0.9524 - val_loss: 0.2081 - val_accuracy: 0.9381 - 132ms/epoch - 698us/step\n",
      "Epoch 3/30\n",
      "189/189 - 0s - loss: 0.1903 - accuracy: 0.9524 - val_loss: 0.2120 - val_accuracy: 0.9381 - 131ms/epoch - 693us/step\n",
      "Epoch 4/30\n",
      "189/189 - 0s - loss: 0.1898 - accuracy: 0.9519 - val_loss: 0.2147 - val_accuracy: 0.9333 - 133ms/epoch - 703us/step\n",
      "Epoch 5/30\n",
      "189/189 - 0s - loss: 0.1905 - accuracy: 0.9529 - val_loss: 0.2256 - val_accuracy: 0.9429 - 127ms/epoch - 671us/step\n",
      "Epoch 6/30\n",
      "189/189 - 0s - loss: 0.1893 - accuracy: 0.9534 - val_loss: 0.2093 - val_accuracy: 0.9381 - 128ms/epoch - 679us/step\n",
      "Epoch 7/30\n",
      "189/189 - 0s - loss: 0.1897 - accuracy: 0.9497 - val_loss: 0.2179 - val_accuracy: 0.9429 - 127ms/epoch - 674us/step\n",
      "Epoch 8/30\n",
      "189/189 - 0s - loss: 0.1907 - accuracy: 0.9508 - val_loss: 0.2115 - val_accuracy: 0.9381 - 128ms/epoch - 678us/step\n",
      "Epoch 9/30\n",
      "189/189 - 0s - loss: 0.1915 - accuracy: 0.9519 - val_loss: 0.2086 - val_accuracy: 0.9381 - 127ms/epoch - 671us/step\n",
      "Epoch 10/30\n",
      "189/189 - 0s - loss: 0.1909 - accuracy: 0.9513 - val_loss: 0.2110 - val_accuracy: 0.9381 - 128ms/epoch - 676us/step\n",
      "Epoch 11/30\n",
      "189/189 - 0s - loss: 0.1926 - accuracy: 0.9497 - val_loss: 0.2128 - val_accuracy: 0.9381 - 130ms/epoch - 689us/step\n",
      "Epoch 12/30\n",
      "189/189 - 0s - loss: 0.1915 - accuracy: 0.9513 - val_loss: 0.2096 - val_accuracy: 0.9381 - 129ms/epoch - 684us/step\n",
      "Epoch 13/30\n",
      "189/189 - 0s - loss: 0.1907 - accuracy: 0.9519 - val_loss: 0.2119 - val_accuracy: 0.9381 - 129ms/epoch - 683us/step\n",
      "Epoch 14/30\n",
      "189/189 - 0s - loss: 0.1904 - accuracy: 0.9524 - val_loss: 0.2097 - val_accuracy: 0.9381 - 127ms/epoch - 674us/step\n",
      "Epoch 15/30\n",
      "189/189 - 0s - loss: 0.1918 - accuracy: 0.9503 - val_loss: 0.2181 - val_accuracy: 0.9429 - 128ms/epoch - 678us/step\n",
      "Epoch 16/30\n",
      "189/189 - 0s - loss: 0.1908 - accuracy: 0.9508 - val_loss: 0.2103 - val_accuracy: 0.9381 - 129ms/epoch - 680us/step\n",
      "Epoch 17/30\n",
      "189/189 - 0s - loss: 0.1895 - accuracy: 0.9503 - val_loss: 0.2107 - val_accuracy: 0.9381 - 131ms/epoch - 692us/step\n",
      "Epoch 18/30\n",
      "189/189 - 0s - loss: 0.1928 - accuracy: 0.9487 - val_loss: 0.2109 - val_accuracy: 0.9381 - 130ms/epoch - 686us/step\n",
      "Epoch 19/30\n",
      "189/189 - 0s - loss: 0.1905 - accuracy: 0.9513 - val_loss: 0.2105 - val_accuracy: 0.9381 - 130ms/epoch - 689us/step\n",
      "Epoch 20/30\n",
      "189/189 - 0s - loss: 0.1906 - accuracy: 0.9519 - val_loss: 0.2091 - val_accuracy: 0.9381 - 134ms/epoch - 709us/step\n",
      "Epoch 21/30\n",
      "189/189 - 0s - loss: 0.1900 - accuracy: 0.9508 - val_loss: 0.2090 - val_accuracy: 0.9381 - 131ms/epoch - 694us/step\n",
      "Epoch 22/30\n",
      "189/189 - 0s - loss: 0.1909 - accuracy: 0.9508 - val_loss: 0.2137 - val_accuracy: 0.9429 - 131ms/epoch - 694us/step\n",
      "Epoch 23/30\n",
      "189/189 - 0s - loss: 0.1905 - accuracy: 0.9519 - val_loss: 0.2130 - val_accuracy: 0.9381 - 128ms/epoch - 677us/step\n",
      "Epoch 24/30\n",
      "189/189 - 0s - loss: 0.1922 - accuracy: 0.9471 - val_loss: 0.2093 - val_accuracy: 0.9381 - 129ms/epoch - 680us/step\n",
      "Epoch 25/30\n",
      "189/189 - 0s - loss: 0.1898 - accuracy: 0.9519 - val_loss: 0.2084 - val_accuracy: 0.9381 - 127ms/epoch - 674us/step\n",
      "Epoch 26/30\n",
      "189/189 - 0s - loss: 0.1891 - accuracy: 0.9503 - val_loss: 0.2262 - val_accuracy: 0.9333 - 130ms/epoch - 688us/step\n",
      "Epoch 27/30\n",
      "189/189 - 0s - loss: 0.1906 - accuracy: 0.9497 - val_loss: 0.2104 - val_accuracy: 0.9381 - 130ms/epoch - 689us/step\n",
      "Epoch 28/30\n",
      "189/189 - 0s - loss: 0.1892 - accuracy: 0.9519 - val_loss: 0.2082 - val_accuracy: 0.9381 - 128ms/epoch - 677us/step\n",
      "Epoch 29/30\n",
      "189/189 - 0s - loss: 0.1895 - accuracy: 0.9519 - val_loss: 0.2113 - val_accuracy: 0.9381 - 135ms/epoch - 717us/step\n",
      "Epoch 30/30\n",
      "189/189 - 0s - loss: 0.1903 - accuracy: 0.9503 - val_loss: 0.2132 - val_accuracy: 0.9381 - 130ms/epoch - 686us/step\n"
     ]
    },
    {
     "data": {
      "text/plain": [
       "<keras.src.callbacks.History at 0x7fec48dee490>"
      ]
     },
     "execution_count": 49,
     "metadata": {},
     "output_type": "execute_result"
    }
   ],
   "source": [
    "model.fit(x=scaled_train_samples, y=train_labels, validation_split=0.1, batch_size=10, epochs=30, shuffle=True, verbose=2)"
   ]
  },
  {
   "cell_type": "code",
   "execution_count": 50,
   "id": "d7004ecc-db5d-4c42-b274-bf68f0dbf402",
   "metadata": {
    "tags": []
   },
   "outputs": [
    {
     "name": "stdout",
     "output_type": "stream",
     "text": [
      "Epoch 1/30\n",
      "158/158 - 0s - loss: 0.1893 - accuracy: 0.9529 - val_loss: 0.2124 - val_accuracy: 0.9381 - 188ms/epoch - 1ms/step\n",
      "Epoch 2/30\n",
      "158/158 - 0s - loss: 0.1901 - accuracy: 0.9508 - val_loss: 0.2114 - val_accuracy: 0.9381 - 114ms/epoch - 724us/step\n",
      "Epoch 3/30\n",
      "158/158 - 0s - loss: 0.1900 - accuracy: 0.9508 - val_loss: 0.2104 - val_accuracy: 0.9381 - 113ms/epoch - 712us/step\n",
      "Epoch 4/30\n",
      "158/158 - 0s - loss: 0.1897 - accuracy: 0.9492 - val_loss: 0.2120 - val_accuracy: 0.9381 - 117ms/epoch - 740us/step\n",
      "Epoch 5/30\n",
      "158/158 - 0s - loss: 0.1909 - accuracy: 0.9519 - val_loss: 0.2103 - val_accuracy: 0.9381 - 112ms/epoch - 712us/step\n",
      "Epoch 6/30\n",
      "158/158 - 0s - loss: 0.1901 - accuracy: 0.9513 - val_loss: 0.2137 - val_accuracy: 0.9429 - 113ms/epoch - 715us/step\n",
      "Epoch 7/30\n",
      "158/158 - 0s - loss: 0.1902 - accuracy: 0.9524 - val_loss: 0.2110 - val_accuracy: 0.9381 - 111ms/epoch - 704us/step\n",
      "Epoch 8/30\n",
      "158/158 - 0s - loss: 0.1901 - accuracy: 0.9503 - val_loss: 0.2103 - val_accuracy: 0.9381 - 112ms/epoch - 711us/step\n",
      "Epoch 9/30\n",
      "158/158 - 0s - loss: 0.1904 - accuracy: 0.9508 - val_loss: 0.2111 - val_accuracy: 0.9381 - 115ms/epoch - 729us/step\n",
      "Epoch 10/30\n",
      "158/158 - 0s - loss: 0.1888 - accuracy: 0.9529 - val_loss: 0.2109 - val_accuracy: 0.9333 - 113ms/epoch - 713us/step\n",
      "Epoch 11/30\n",
      "158/158 - 0s - loss: 0.1905 - accuracy: 0.9508 - val_loss: 0.2104 - val_accuracy: 0.9381 - 112ms/epoch - 709us/step\n",
      "Epoch 12/30\n",
      "158/158 - 0s - loss: 0.1901 - accuracy: 0.9524 - val_loss: 0.2109 - val_accuracy: 0.9381 - 113ms/epoch - 718us/step\n",
      "Epoch 13/30\n",
      "158/158 - 0s - loss: 0.1893 - accuracy: 0.9529 - val_loss: 0.2149 - val_accuracy: 0.9381 - 115ms/epoch - 729us/step\n",
      "Epoch 14/30\n",
      "158/158 - 0s - loss: 0.1910 - accuracy: 0.9529 - val_loss: 0.2161 - val_accuracy: 0.9429 - 113ms/epoch - 716us/step\n",
      "Epoch 15/30\n",
      "158/158 - 0s - loss: 0.1893 - accuracy: 0.9519 - val_loss: 0.2090 - val_accuracy: 0.9381 - 112ms/epoch - 709us/step\n",
      "Epoch 16/30\n",
      "158/158 - 0s - loss: 0.1906 - accuracy: 0.9497 - val_loss: 0.2203 - val_accuracy: 0.9429 - 120ms/epoch - 763us/step\n",
      "Epoch 17/30\n",
      "158/158 - 0s - loss: 0.1898 - accuracy: 0.9524 - val_loss: 0.2098 - val_accuracy: 0.9381 - 118ms/epoch - 750us/step\n",
      "Epoch 18/30\n",
      "158/158 - 0s - loss: 0.1903 - accuracy: 0.9508 - val_loss: 0.2206 - val_accuracy: 0.9429 - 121ms/epoch - 767us/step\n",
      "Epoch 19/30\n",
      "158/158 - 0s - loss: 0.1905 - accuracy: 0.9492 - val_loss: 0.2110 - val_accuracy: 0.9381 - 122ms/epoch - 771us/step\n",
      "Epoch 20/30\n",
      "158/158 - 0s - loss: 0.1916 - accuracy: 0.9503 - val_loss: 0.2099 - val_accuracy: 0.9381 - 118ms/epoch - 747us/step\n",
      "Epoch 21/30\n",
      "158/158 - 0s - loss: 0.1887 - accuracy: 0.9524 - val_loss: 0.2120 - val_accuracy: 0.9333 - 124ms/epoch - 787us/step\n",
      "Epoch 22/30\n",
      "158/158 - 0s - loss: 0.1902 - accuracy: 0.9519 - val_loss: 0.2102 - val_accuracy: 0.9381 - 123ms/epoch - 777us/step\n",
      "Epoch 23/30\n",
      "158/158 - 0s - loss: 0.1902 - accuracy: 0.9524 - val_loss: 0.2155 - val_accuracy: 0.9429 - 118ms/epoch - 748us/step\n",
      "Epoch 24/30\n",
      "158/158 - 0s - loss: 0.1894 - accuracy: 0.9529 - val_loss: 0.2100 - val_accuracy: 0.9381 - 120ms/epoch - 761us/step\n",
      "Epoch 25/30\n",
      "158/158 - 0s - loss: 0.1905 - accuracy: 0.9508 - val_loss: 0.2107 - val_accuracy: 0.9381 - 125ms/epoch - 794us/step\n",
      "Epoch 26/30\n",
      "158/158 - 0s - loss: 0.1889 - accuracy: 0.9503 - val_loss: 0.2131 - val_accuracy: 0.9381 - 121ms/epoch - 763us/step\n",
      "Epoch 27/30\n",
      "158/158 - 0s - loss: 0.1893 - accuracy: 0.9524 - val_loss: 0.2115 - val_accuracy: 0.9381 - 122ms/epoch - 771us/step\n",
      "Epoch 28/30\n",
      "158/158 - 0s - loss: 0.1899 - accuracy: 0.9534 - val_loss: 0.2116 - val_accuracy: 0.9381 - 133ms/epoch - 845us/step\n",
      "Epoch 29/30\n",
      "158/158 - 0s - loss: 0.1906 - accuracy: 0.9524 - val_loss: 0.2136 - val_accuracy: 0.9381 - 120ms/epoch - 759us/step\n",
      "Epoch 30/30\n",
      "158/158 - 0s - loss: 0.1887 - accuracy: 0.9513 - val_loss: 0.2177 - val_accuracy: 0.9429 - 120ms/epoch - 763us/step\n"
     ]
    },
    {
     "data": {
      "text/plain": [
       "<keras.src.callbacks.History at 0x7fec48c010d0>"
      ]
     },
     "execution_count": 50,
     "metadata": {},
     "output_type": "execute_result"
    }
   ],
   "source": [
    "model.fit(x=scaled_train_samples, y=train_labels, validation_split=0.1, batch_size=12, epochs=30, shuffle=True, verbose=2)"
   ]
  },
  {
   "cell_type": "markdown",
   "id": "8d3e227c-4fbe-4abf-80bc-4b0fdbe4e3b2",
   "metadata": {
    "tags": []
   },
   "source": [
    "Processing the Test Data"
   ]
  },
  {
   "cell_type": "code",
   "execution_count": 52,
   "id": "62f98740-c2c2-4fa9-855e-9edcc4bc266c",
   "metadata": {
    "tags": []
   },
   "outputs": [],
   "source": [
    "test_labels=[]\n",
    "test_samples=[]"
   ]
  },
  {
   "cell_type": "code",
   "execution_count": 53,
   "id": "e9caf14b-4508-44e2-a444-8a15becbd687",
   "metadata": {
    "tags": []
   },
   "outputs": [],
   "source": [
    "for i in range(50):\n",
    "#     The 5% of the younger people who experienced the side effects.\n",
    "    random_younger = randint(13, 64)\n",
    "    test_samples.append(random_younger)\n",
    "    test_labels.append(1)\n",
    "#     The 5% of the older people who didnot experienced the side effects.\n",
    "    random_older = randint(65, 100)\n",
    "    test_samples.append(random_older)\n",
    "    test_labels.append(0)\n",
    "for i in range(1000):\n",
    "#     The 95% of the younger people who did not experienced the side effects.\n",
    "    random_younger = randint(13, 64)\n",
    "    test_samples.append(random_younger)\n",
    "    test_labels.append(0)\n",
    "#     The 95% of the older people who experienced the side effects.\n",
    "    random_older = randint(65, 100)\n",
    "    test_samples.append(random_older)\n",
    "    test_labels.append(1)"
   ]
  },
  {
   "cell_type": "code",
   "execution_count": 54,
   "id": "b5eeb6ae-dd59-4f9c-bf00-01c390da69f0",
   "metadata": {
    "tags": []
   },
   "outputs": [],
   "source": [
    "test_labels = np.array(test_labels)\n",
    "test_samples = np.array(test_samples)\n",
    "test_labels, test_samples = shuffle(test_labels, test_samples)"
   ]
  },
  {
   "cell_type": "code",
   "execution_count": 55,
   "id": "832b20ad-9f12-4176-9e66-caaf373b7c63",
   "metadata": {
    "tags": []
   },
   "outputs": [],
   "source": [
    "scaled_test_samples = scaler.fit_transform(test_samples.reshape(-1,1))"
   ]
  },
  {
   "cell_type": "raw",
   "id": "75d5e70f-5774-4823-ad7b-3dd544b1ef51",
   "metadata": {},
   "source": [
    "Prediction in Test Data"
   ]
  },
  {
   "cell_type": "code",
   "execution_count": 57,
   "id": "2c84611c-0801-4d7b-8fff-26883804b1cd",
   "metadata": {
    "tags": []
   },
   "outputs": [],
   "source": [
    "predictions = model.predict(x=scaled_test_samples, batch_size=10, verbose=0)"
   ]
  },
  {
   "cell_type": "code",
   "execution_count": 58,
   "id": "fe23f1fb-bebf-4a0a-a66a-601bf9a66567",
   "metadata": {
    "tags": []
   },
   "outputs": [
    {
     "data": {
      "text/plain": [
       "array([0.9601518 , 0.03984822], dtype=float32)"
      ]
     },
     "execution_count": 58,
     "metadata": {},
     "output_type": "execute_result"
    }
   ],
   "source": [
    "predictions[0]"
   ]
  },
  {
   "cell_type": "code",
   "execution_count": 59,
   "id": "f503e0ae-e9cd-43ed-b6b8-c7e7ae95060d",
   "metadata": {
    "tags": []
   },
   "outputs": [],
   "source": [
    "rounded_predictions = np.argmax(predictions, axis=-1)"
   ]
  },
  {
   "cell_type": "code",
   "execution_count": 60,
   "id": "8ef92522-82d1-4bbf-a127-00db625bfea7",
   "metadata": {
    "tags": []
   },
   "outputs": [
    {
     "data": {
      "text/plain": [
       "array([0, 1, 0, ..., 1, 0, 1])"
      ]
     },
     "execution_count": 60,
     "metadata": {},
     "output_type": "execute_result"
    }
   ],
   "source": [
    "rounded_predictions"
   ]
  },
  {
   "cell_type": "code",
   "execution_count": 62,
   "id": "3e1c019a-3301-478c-8de2-b306117afec1",
   "metadata": {
    "tags": []
   },
   "outputs": [],
   "source": [
    "%matplotlib inline\n",
    "from sklearn.metrics import confusion_matrix\n",
    "import itertools\n",
    "import matplotlib.pyplot as plt"
   ]
  },
  {
   "cell_type": "code",
   "execution_count": 63,
   "id": "d5c1919e-7c56-4be5-8527-d7072982c0c9",
   "metadata": {
    "tags": []
   },
   "outputs": [],
   "source": [
    "cm = confusion_matrix(y_true=test_labels, y_pred=rounded_predictions)"
   ]
  },
  {
   "cell_type": "code",
   "execution_count": 64,
   "id": "9c975923-8451-442e-b1cc-3237e3127f66",
   "metadata": {
    "tags": []
   },
   "outputs": [],
   "source": [
    "def plot_confusion_matrix(cm, classes,\n",
    "                        normalize=False,\n",
    "                        title='Confusion matrix',\n",
    "                        cmap=plt.cm.Blues):\n",
    "    \"\"\"\n",
    "    This function prints and plots the confusion matrix.\n",
    "    Normalization can be applied by setting `normalize=True`.\n",
    "    \"\"\"\n",
    "    plt.imshow(cm, interpolation='nearest', cmap=cmap)\n",
    "    plt.title(title)\n",
    "    plt.colorbar()\n",
    "    tick_marks = np.arange(len(classes))\n",
    "    plt.xticks(tick_marks, classes, rotation=45)\n",
    "    plt.yticks(tick_marks, classes)\n",
    "\n",
    "    if normalize:\n",
    "        cm = cm.astype('float') / cm.sum(axis=1)[:, np.newaxis]\n",
    "        print(\"Normalized confusion matrix\")\n",
    "    else:\n",
    "        print('Confusion matrix, without normalization')\n",
    "\n",
    "    print(cm)\n",
    "\n",
    "    thresh = cm.max() / 2.\n",
    "    for i, j in itertools.product(range(cm.shape[0]), range(cm.shape[1])):\n",
    "        plt.text(j, i, cm[i, j],\n",
    "            horizontalalignment=\"center\",\n",
    "            color=\"white\" if cm[i, j] > thresh else \"black\")\n",
    "\n",
    "    plt.tight_layout()\n",
    "    plt.ylabel('True label')\n",
    "    plt.xlabel('Predicted label')"
   ]
  },
  {
   "cell_type": "code",
   "execution_count": 65,
   "id": "98f5c143-2504-4c07-8f14-0803f824ecec",
   "metadata": {
    "tags": []
   },
   "outputs": [],
   "source": [
    "cm_plot_labels = ['no_side_effects', 'has/had_side_effects']"
   ]
  },
  {
   "cell_type": "code",
   "execution_count": 66,
   "id": "f2a03a61-5420-46f0-a489-c25845eb2d42",
   "metadata": {
    "tags": []
   },
   "outputs": [
    {
     "name": "stdout",
     "output_type": "stream",
     "text": [
      "Confusion matrix, without normalization\n",
      "[[ 988   62]\n",
      " [  48 1002]]\n"
     ]
    },
    {
     "data": {
      "image/png": "[encoded data removed]",
      "text/plain": [
       "<Figure size 640x480 with 2 Axes>"
      ]
     },
     "metadata": {},
     "output_type": "display_data"
    }
   ],
   "source": [
    "plot_confusion_matrix(cm=cm, classes=cm_plot_labels, title='Confusion Matrix for Side Effects Data Training')"
   ]
  },
  {
   "cell_type": "code",
   "execution_count": 67,
   "id": "4cdab3b7-588d-4fec-be1d-2667baec7f5d",
   "metadata": {
    "tags": []
   },
   "outputs": [
    {
     "name": "stdout",
     "output_type": "stream",
     "text": [
      "Model: \"sequential\"\n",
      "_________________________________________________________________\n",
      " Layer (type)                Output Shape              Param #   \n",
      "=================================================================\n",
      " dense_2 (Dense)             (None, 16)                32        \n",
      "                                                                 \n",
      " dense_3 (Dense)             (None, 32)                544       \n",
      "                                                                 \n",
      " dense_4 (Dense)             (None, 2)                 66        \n",
      "                                                                 \n",
      "=================================================================\n",
      "Total params: 642 (2.51 KB)\n",
      "Trainable params: 642 (2.51 KB)\n",
      "Non-trainable params: 0 (0.00 Byte)\n",
      "_________________________________________________________________\n"
     ]
    }
   ],
   "source": [
    "model.summary()"
   ]
  },
  {
   "cell_type": "code",
   "execution_count": null,
   "id": "c5358394-6a42-4273-8f1b-e2a42a23b702",
   "metadata": {},
   "outputs": [],
   "source": []
  }
 ],
 "metadata": {
  "kernelspec": {
   "display_name": "Python 3 (ipykernel)",
   "language": "python",
   "name": "python3"
  },
  "language_info": {
   "codemirror_mode": {
    "name": "ipython",
    "version": 3
   },
   "file_extension": ".py",
   "mimetype": "text/x-python",
   "name": "python",
   "nbconvert_exporter": "python",
   "pygments_lexer": "ipython3",
   "version": "3.11.4"
  }
 },
 "nbformat": 4,
 "nbformat_minor": 5
}
